{
 "cells": [
  {
   "cell_type": "code",
   "execution_count": 17,
   "metadata": {},
   "outputs": [],
   "source": [
    "import numpy as np\n",
    "import os\n",
    "import torch\n",
    "import json\n",
    "import matplotlib.pyplot as plt\n",
    "from sklearn.preprocessing import OneHotEncoder\n",
    "from tqdm.auto import tqdm"
   ]
  },
  {
   "cell_type": "code",
   "execution_count": 29,
   "metadata": {},
   "outputs": [],
   "source": [
    "data =  torch.load('data/partial_encoded/training/input_data_001.pt')[0].int()"
   ]
  },
  {
   "cell_type": "code",
   "execution_count": 33,
   "metadata": {},
   "outputs": [
    {
     "data": {
      "text/plain": [
       "tensor([[   0,    0,    0,    0,    0,    0,    0,    0,    0,    0,   60,    1,\n",
       "            0,    0,    0,    0,    1,    0,    0,    0,    0,    0,    0,    0,\n",
       "            0,    0,    1,    0,    0,    0,    0,    0,    0,    0,    0, 1015,\n",
       "         1340,   80,   80,    0,  160,    1,    2,   10,    4],\n",
       "        [   0,    0,    0,    0,    0,    0,    0,    0,    0,    0,   60,    1,\n",
       "            0,    0,    0,    0,    0,    0,    0,    0,    1,    0,    0,    0,\n",
       "            0,    0,    0,    0,    0,    0,    1,    0,    0,    0,    0, 1015,\n",
       "         1340,   80,   80,    0,  160,    1,    2,   10,    4],\n",
       "        [   0,    0,    0,    0,    0,    0,    0,    0,    0,    0,   60,    1,\n",
       "            0,    0,    0,    0,    0,    0,    0,    0,    0,    1,    0,    0,\n",
       "            0,    0,    0,    0,    0,    0,    0,    1,    0,    0,    0, 1015,\n",
       "         1340,   80,   80,    0,  160,    1,    2,   10,    4],\n",
       "        [   5,    1,    9,    3,    4,    3,    0,    0,    0,    0,   80,    0,\n",
       "            1,    0,    0,    0,    0,    0,    0,    1,    0,    0,    0,    0,\n",
       "            0,    0,    0,    0,    0,    1,    0,    0,    0,    0,    0, 1015,\n",
       "         1340,   80,   80,    0,  160,    1,    2,   10,    4],\n",
       "        [   5,    1,    9,    3,    4,    3,    6,    1,    0,    0,  120,    0,\n",
       "            0,    1,    0,    0,    0,    0,    1,    0,    0,    0,    0,    0,\n",
       "            0,    0,    0,    0,    1,    0,    0,    0,    0,    0,    0, 1015,\n",
       "         1340,   80,   80,    0,  160,    1,    2,   10,    4],\n",
       "        [   5,    1,    9,    3,    4,    3,    6,    1,    0,    0,  120,    0,\n",
       "            0,    1,    0,    0,    0,    0,    0,    0,    1,    0,    0,    0,\n",
       "            0,    0,    0,    0,    0,    0,    1,    0,    0,    0,    0, 1015,\n",
       "         1340,   80,   80,    0,  160,    1,    2,   10,    4],\n",
       "        [   5,    1,    9,    3,    4,    3,    6,    1,    6,    4,  160,    0,\n",
       "            0,    0,    1,    0,    0,    0,    1,    0,    0,    0,    0,    0,\n",
       "            0,    0,    0,    0,    1,    0,    0,    0,    0,    0,    0, 1015,\n",
       "         1340,   80,   80,    0,  160,    1,    2,   10,    4],\n",
       "        [   5,    1,    9,    3,    4,    3,    6,    1,    6,    4,  160,    0,\n",
       "            0,    0,    1,    0,    0,    0,    0,    0,    1,    0,    0,    0,\n",
       "            0,    0,    0,    0,    0,    0,    1,    0,    0,    0,    0, 1015,\n",
       "         1340,   80,   80,    0,  160,    1,    2,   10,    4]],\n",
       "       dtype=torch.int32)"
      ]
     },
     "execution_count": 33,
     "metadata": {},
     "output_type": "execute_result"
    }
   ],
   "source": [
    "data"
   ]
  },
  {
   "cell_type": "code",
   "execution_count": 34,
   "metadata": {},
   "outputs": [],
   "source": [
    "data =  torch.load('data/partial_encoded/training/target_data_001.pt')[0].int()"
   ]
  },
  {
   "cell_type": "code",
   "execution_count": 35,
   "metadata": {},
   "outputs": [
    {
     "data": {
      "text/plain": [
       "tensor([[0, 0, 0, 0, 0, 0, 0, 0, 0, 0, 0, 0, 0, 0, 0, 0, 0, 0, 0, 0, 0, 0, 0, 0,\n",
       "         0, 0, 0, 0, 0, 0, 0, 0, 0, 0, 0, 1, 0, 0, 0, 0, 0, 0, 0, 0, 0, 0, 0, 0,\n",
       "         0, 0, 0, 0, 0, 0, 0, 0, 0, 0, 0, 0, 0, 0, 0, 0, 0, 0, 0, 0, 0, 0, 0, 0,\n",
       "         0, 0, 0, 0, 0, 0, 0, 0, 0, 0, 0, 0, 1, 0, 0, 0, 0, 0, 0, 0, 0, 0, 0, 0,\n",
       "         0, 0, 0, 0, 0, 0, 0, 0]], dtype=torch.int32)"
      ]
     },
     "execution_count": 35,
     "metadata": {},
     "output_type": "execute_result"
    }
   ],
   "source": [
    "data"
   ]
  },
  {
   "cell_type": "code",
   "execution_count": 21,
   "metadata": {},
   "outputs": [
    {
     "data": {
      "text/plain": [
       "45"
      ]
     },
     "execution_count": 21,
     "metadata": {},
     "output_type": "execute_result"
    }
   ],
   "source": [
    "num_board_features = 10\n",
    "\n",
    "# 17 spaces for each card, max of 2 cards\n",
    "pocket_cards = 4\n",
    "\n",
    "# pre-flop, flop, turn, river\n",
    "num_rounds = 4\n",
    "\n",
    "# fold, call, raise\n",
    "num_actions = 10\n",
    "\n",
    "# only considering 2 player games\n",
    "num_players = 2\n",
    "\n",
    "# each player has a bankroll and active bet\n",
    "money_per_player = 3\n",
    "\n",
    "# pot is common knowledge among players\n",
    "pot = 1\n",
    "\n",
    "in_size = (\n",
    "    (num_board_features) + \n",
    "    (pocket_cards) + \n",
    "    (pot) + \n",
    "    (num_rounds) + \n",
    "    (num_actions * num_players) + \n",
    "    (money_per_player * num_players)\n",
    ")\n",
    "in_size"
   ]
  },
  {
   "cell_type": "code",
   "execution_count": 22,
   "metadata": {},
   "outputs": [],
   "source": [
    "y = [1, 2, 3, 4]"
   ]
  },
  {
   "cell_type": "code",
   "execution_count": 23,
   "metadata": {},
   "outputs": [
    {
     "data": {
      "text/plain": [
       "[3, 4, 1, 2]"
      ]
     },
     "execution_count": 23,
     "metadata": {},
     "output_type": "execute_result"
    }
   ],
   "source": [
    "y[2:]+y[:2]"
   ]
  }
 ],
 "metadata": {
  "kernelspec": {
   "display_name": "env38",
   "language": "python",
   "name": "python3"
  },
  "language_info": {
   "codemirror_mode": {
    "name": "ipython",
    "version": 3
   },
   "file_extension": ".py",
   "mimetype": "text/x-python",
   "name": "python",
   "nbconvert_exporter": "python",
   "pygments_lexer": "ipython3",
   "version": "3.11.8"
  }
 },
 "nbformat": 4,
 "nbformat_minor": 2
}

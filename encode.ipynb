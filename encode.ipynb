{
 "cells": [
  {
   "cell_type": "code",
   "execution_count": 1,
   "metadata": {},
   "outputs": [
    {
     "ename": "ModuleNotFoundError",
     "evalue": "No module named 'tqdm'",
     "output_type": "error",
     "traceback": [
      "\u001b[0;31m---------------------------------------------------------------------------\u001b[0m",
      "\u001b[0;31mModuleNotFoundError\u001b[0m                       Traceback (most recent call last)",
      "Cell \u001b[0;32mIn[1], line 6\u001b[0m\n\u001b[1;32m      4\u001b[0m \u001b[38;5;28;01mimport\u001b[39;00m \u001b[38;5;21;01mjson\u001b[39;00m\n\u001b[1;32m      5\u001b[0m \u001b[38;5;28;01mfrom\u001b[39;00m \u001b[38;5;21;01msklearn\u001b[39;00m\u001b[38;5;21;01m.\u001b[39;00m\u001b[38;5;21;01mpreprocessing\u001b[39;00m \u001b[38;5;28;01mimport\u001b[39;00m OneHotEncoder\n\u001b[0;32m----> 6\u001b[0m \u001b[38;5;28;01mfrom\u001b[39;00m \u001b[38;5;21;01mtqdm\u001b[39;00m\u001b[38;5;21;01m.\u001b[39;00m\u001b[38;5;21;01mauto\u001b[39;00m \u001b[38;5;28;01mimport\u001b[39;00m tqdm\n\u001b[1;32m      7\u001b[0m \u001b[38;5;28;01mimport\u001b[39;00m \u001b[38;5;21;01mglob\u001b[39;00m\n",
      "\u001b[0;31mModuleNotFoundError\u001b[0m: No module named 'tqdm'"
     ]
    }
   ],
   "source": [
    "import numpy as np\n",
    "import os\n",
    "import torch\n",
    "import json\n",
    "from sklearn.preprocessing import OneHotEncoder\n",
    "from tqdm.auto import tqdm\n",
    "import glob"
   ]
  },
  {
   "cell_type": "code",
   "execution_count": 15,
   "metadata": {},
   "outputs": [
    {
     "name": "stdout",
     "output_type": "stream",
     "text": [
      "Requirement already satisfied: tqdm in /usr/local/lib/python3.11/site-packages (4.66.2)\n",
      "\n",
      "\u001b[1m[\u001b[0m\u001b[34;49mnotice\u001b[0m\u001b[1;39;49m]\u001b[0m\u001b[39;49m A new release of pip is available: \u001b[0m\u001b[31;49m23.3.1\u001b[0m\u001b[39;49m -> \u001b[0m\u001b[32;49m24.0\u001b[0m\n",
      "\u001b[1m[\u001b[0m\u001b[34;49mnotice\u001b[0m\u001b[1;39;49m]\u001b[0m\u001b[39;49m To update, run: \u001b[0m\u001b[32;49m/usr/local/opt/python@3.11/bin/python3.11 -m pip install --upgrade pip\u001b[0m\n"
     ]
    }
   ],
   "source": [
    "!pip3 install tqdm"
   ]
  },
  {
   "cell_type": "code",
   "execution_count": 12,
   "metadata": {},
   "outputs": [
    {
     "name": "stdout",
     "output_type": "stream",
     "text": [
      "/usr/local/bin/python3\n"
     ]
    }
   ],
   "source": [
    "!which python3"
   ]
  },
  {
   "cell_type": "code",
   "execution_count": 14,
   "metadata": {},
   "outputs": [
    {
     "name": "stdout",
     "output_type": "stream",
     "text": [
      "/bin/bash: {sys.executable}: command not found\n"
     ]
    }
   ],
   "source": [
    "!{sys.executable} -m pip install scikit-learn"
   ]
  },
  {
   "cell_type": "code",
   "execution_count": 3,
   "metadata": {},
   "outputs": [
    {
     "name": "stdout",
     "output_type": "stream",
     "text": [
      "Requirement already satisfied: scikit-learn in /usr/local/lib/python3.11/site-packages (1.4.1.post1)\n",
      "Requirement already satisfied: numpy<2.0,>=1.19.5 in /usr/local/lib/python3.11/site-packages (from scikit-learn) (1.26.4)\n",
      "Requirement already satisfied: scipy>=1.6.0 in /usr/local/lib/python3.11/site-packages (from scikit-learn) (1.12.0)\n",
      "Requirement already satisfied: joblib>=1.2.0 in /usr/local/lib/python3.11/site-packages (from scikit-learn) (1.3.2)\n",
      "Requirement already satisfied: threadpoolctl>=2.0.0 in /usr/local/lib/python3.11/site-packages (from scikit-learn) (3.4.0)\n",
      "\n",
      "\u001b[1m[\u001b[0m\u001b[34;49mnotice\u001b[0m\u001b[1;39;49m]\u001b[0m\u001b[39;49m A new release of pip is available: \u001b[0m\u001b[31;49m23.3.1\u001b[0m\u001b[39;49m -> \u001b[0m\u001b[32;49m24.0\u001b[0m\n",
      "\u001b[1m[\u001b[0m\u001b[34;49mnotice\u001b[0m\u001b[1;39;49m]\u001b[0m\u001b[39;49m To update, run: \u001b[0m\u001b[32;49m/usr/local/opt/python@3.11/bin/python3.11 -m pip install --upgrade pip\u001b[0m\n"
     ]
    }
   ],
   "source": [
    "!pip3 install scikit-learn"
   ]
  },
  {
   "cell_type": "code",
   "execution_count": 2,
   "metadata": {},
   "outputs": [],
   "source": [
    "READ_FILE = 'hands_valid.json'\n",
    "RANKMAP = {'A':1, 'T':10, 'J':11, 'Q':12, 'K':13}\n",
    "SUITMAP = {'c':1, 'd':2, 'h':3, 's':4}"
   ]
  },
  {
   "cell_type": "code",
   "execution_count": 1,
   "metadata": {},
   "outputs": [],
   "source": [
    "# hand: ['Ad','Kc'] -> ['AKo']\n",
    "def format_poker_hand(hand):\n",
    "    # card ranks ordered from low to high\n",
    "    card_order = '23456789TJQKA'\n",
    "    \n",
    "    # extract ranks and suits from the input\n",
    "    rank1, suit1 = hand[0][0], hand[0][1]\n",
    "    rank2, suit2 = hand[1][0], hand[1][1]\n",
    "    \n",
    "    # ensure the higher card rank is on the left side\n",
    "    if card_order.index(rank1) > card_order.index(rank2):\n",
    "        rank1, rank2 = rank2, rank1\n",
    "        suit1, suit2 = suit2, suit1\n",
    "    \n",
    "    # check for pocket pairs, offsuit, or suited\n",
    "    if rank1 == rank2:\n",
    "        return f'{rank1}{rank2}'\n",
    "    elif suit1 == suit2:\n",
    "        return f'{rank1}{rank2}s'\n",
    "    else:\n",
    "        return f'{rank1}{rank2}o'"
   ]
  },
  {
   "cell_type": "code",
   "execution_count": 14,
   "metadata": {},
   "outputs": [],
   "source": [
    "def encode_hand_numerical(card_list):\n",
    "    rank_list = [card[0] for card in card_list]\n",
    "    suit_list = [card[1] for card in card_list]\n",
    "    def encode_rank_numerical(ranks):\n",
    "        return np.vectorize(lambda x: x if x not in RANKMAP.keys() else RANKMAP[x])(np.array(ranks)).reshape(-1,1)\n",
    "    def encode_suit_numerical(suits):\n",
    "        return np.vectorize(lambda x: SUITMAP[x])(np.array(suits)).reshape(-1,1)\n",
    "    encoded_ranks = encode_rank_numerical(rank_list).astype(int)\n",
    "    encoded_suits = encode_suit_numerical(suit_list).astype(int)\n",
    "    return np.concatenate((encoded_ranks, encoded_suits), axis=1)\n"
   ]
  },
  {
   "cell_type": "code",
   "execution_count": 16,
   "metadata": {},
   "outputs": [],
   "source": [
    "def encode_hand_hot(card_list):\n",
    "    suits = 'cdhs'  # clubs, diamonds, hearts, spades\n",
    "    ranks = 'A23456789TJQK'\n",
    "    all_cards = [rank + suit for rank in ranks for suit in suits]\n",
    "    # use two, categories takes in new list\n",
    "    card_encoder = OneHotEncoder(categories=[all_cards])\n",
    "    return card_encoder.fit_transform(np.array(card_list).reshape(-1,1)).toarray()"
   ]
  },
  {
   "cell_type": "code",
   "execution_count": 5,
   "metadata": {},
   "outputs": [],
   "source": [
    "### RUN\n",
    "def trans(card_list):\n",
    "    formated_out = format_poker_hand(card_list)\n",
    "    ranks = '23456789TJQKA'\n",
    "    formatted_all_hands = []\n",
    "    # generate all combinations of poker hands\n",
    "    for i in range(len(ranks)):\n",
    "        for j in range(i, len(ranks)):  # Start from i to include pocket pairs\n",
    "            if i == j:\n",
    "                formatted_all_hands.append(f'{ranks[i]}{ranks[j]}')  # pocket\n",
    "            else:\n",
    "                formatted_all_hands.append(f'{ranks[i]}{ranks[j]}s')  # suited\n",
    "                formatted_all_hands.append(f'{ranks[i]}{ranks[j]}o')  # offsuit\n",
    "    card_encoder = OneHotEncoder(categories=[formatted_all_hands])\n",
    "    return card_encoder.fit_transform(np.array(formatted_out).reshape(-1,1)).toarray()"
   ]
  },
  {
   "cell_type": "code",
   "execution_count": 26,
   "metadata": {},
   "outputs": [],
   "source": [
    "def encode_board(card_list, rounds, full_ohe=True):\n",
    "    '''\n",
    "    Returns an encoding of the board that hides cards that the dealer hasn't revealed yet\n",
    "\n",
    "    Parameters:\n",
    "    card_list: list of all five cards on the board\n",
    "    rounds: one-hot encoding of the game's rounds. rows equal to number of rounds, 4 columns (for pre-flop, flop, turn, river)\n",
    "    one_hot_ranks, one_hot_suits: see encode_hand\n",
    "\n",
    "    Returns:\n",
    "    submatrix ready to be added to the overall encoding. Number of rows depends on embedding choice, number of columns\n",
    "    equal to the number of rounds\n",
    "    '''\n",
    "    full_board = encode_hand_numerical(card_list)\n",
    "    board_list = []\n",
    "    if(torch.is_tensor(rounds)):\n",
    "        rounds = rounds.numpy().T\n",
    "    for round in rounds:\n",
    "        if(round[0] == 1):\n",
    "            board_list.append(np.zeros(full_board.shape).flatten().reshape(-1, 1))\n",
    "        elif(round[1] == 1):\n",
    "            flop = full_board[:3]\n",
    "            hidden = np.zeros((2, full_board.shape[1]))\n",
    "            board_list.append(np.concatenate((flop, hidden)).flatten().reshape(-1,1))\n",
    "        elif(round[2] == 1):\n",
    "            flop_turn = full_board[:4]\n",
    "            hidden = np.zeros((1, full_board.shape[1]))\n",
    "            board_list.append(np.concatenate((flop_turn, hidden)).flatten().reshape(-1,1))\n",
    "        else:\n",
    "            board_list.append(full_board.flatten().reshape(-1,1))\n",
    "    return np.concatenate(board_list, axis=1)"
   ]
  },
  {
   "cell_type": "code",
   "execution_count": 5,
   "metadata": {},
   "outputs": [],
   "source": [
    "def encode_bets(bets):\n",
    "    '''\n",
    "    One-hot encodes the rounds of the game (pre-flop, flop, turn, and river) as well as the many\n",
    "    actions a SINGLE player has made. i.e., we need to call this once per player\n",
    "    '''\n",
    "    round_encoder = OneHotEncoder(categories=[['p', 'f', 't', 'r']])\n",
    "    action_encoder = OneHotEncoder(categories=[['-', 'B', 'f', 'k', 'b', 'c', 'r', 'A', 'Q', 'K']])\n",
    "    round_list, action_list = [], []\n",
    "    for round in bets:\n",
    "        for action in round['actions']:\n",
    "            round_list.append(round['stage'])\n",
    "            action_list.append(action)\n",
    "    rounds = round_encoder.fit_transform(np.array(round_list).reshape(-1, 1)).toarray()\n",
    "    actions = action_encoder.fit_transform(np.array(action_list).reshape(-1,1)).toarray()\n",
    "    return rounds, actions"
   ]
  },
  {
   "cell_type": "code",
   "execution_count": 9,
   "metadata": {},
   "outputs": [],
   "source": [
    "MAXIMUM_SIZE = 20"
   ]
  },
  {
   "cell_type": "code",
   "execution_count": 27,
   "metadata": {},
   "outputs": [
    {
     "name": "stderr",
     "output_type": "stream",
     "text": [
      "0it [00:00, ?it/s]"
     ]
    },
    {
     "name": "stderr",
     "output_type": "stream",
     "text": [
      "402126it [00:07, 53209.24it/s]\n"
     ]
    }
   ],
   "source": [
    "with open('hands_valid.json', 'r') as f_in:\n",
    "    with open('hands_filtered.json', 'w') as f_out:\n",
    "        for line in tqdm(f_in):\n",
    "            data = json.loads(line)\n",
    "            if(data['num_players'] == 2):\n",
    "                action_count = 0\n",
    "                for round in data['players'][0]['bets']:\n",
    "                    action_count += len(round['actions'])\n",
    "                for round in data['players'][1]['bets']:\n",
    "                    action_count += len(round['actions'])\n",
    "                if(action_count <= MAXIMUM_SIZE):\n",
    "                    f_out.write(line)"
   ]
  },
  {
   "cell_type": "code",
   "execution_count": 40,
   "metadata": {},
   "outputs": [
    {
     "name": "stderr",
     "output_type": "stream",
     "text": [
      "367055it [12:17, 497.93it/s]\n"
     ]
    }
   ],
   "source": [
    "round_encoder = OneHotEncoder(categories=[['p', 'f', 't', 'r']])\n",
    "action_encoder = OneHotEncoder(categories=[['-', 'B', 'f', 'k', 'b', 'c', 'r', 'A', 'Q', 'K']])\n",
    "\n",
    "full_data_list = []\n",
    "full_target_list = []\n",
    "\n",
    "with open('hands_filtered.json', 'r') as file:\n",
    "    i = 0\n",
    "    for line in tqdm(file):\n",
    "        if (i > 0): break\n",
    "        data = json.loads(line)\n",
    "        player_1 = data['players'][0]['bets']\n",
    "        player_2 = data['players'][1]['bets']\n",
    "        mixed_action_list = []\n",
    "        player_list = []\n",
    "        round_list = []\n",
    "        for p1_round, p2_round in zip(player_1, player_2):\n",
    "            j = 0\n",
    "            while(True):\n",
    "                try:\n",
    "                    mixed_action_list.append(p1_round['actions'][j])\n",
    "                    player_list.append(0)\n",
    "                    round_list.append(p1_round['stage'])\n",
    "                except:\n",
    "                    break\n",
    "                try:\n",
    "                    mixed_action_list.append(p2_round['actions'][j])\n",
    "                    player_list.append(1)\n",
    "                    round_list.append(p2_round['stage'])\n",
    "                except:\n",
    "                    break\n",
    "                j += 1\n",
    "        mixed_action_tensor = torch.tensor(action_encoder.fit_transform(np.array(mixed_action_list).reshape(-1,1)).toarray().T)\n",
    "        round_tensor = torch.tensor(round_encoder.fit_transform(np.array(round_list).reshape(-1,1)).toarray().T)\n",
    "        player_tensor = torch.tensor(player_list).reshape(1, len(player_list))\n",
    "        \n",
    "        encoded_p1_pocket = encode_hand_numerical(data['players'][0]['pocket_cards']).flatten().reshape(-1,1)\n",
    "        encoded_p2_pocket = encode_hand_numerical(data['players'][1]['pocket_cards']).flatten().reshape(-1,1)\n",
    "        repeated_p1_pocket = torch.tensor(np.repeat(encoded_p1_pocket, round_tensor.shape[1], axis=1))\n",
    "        repeated_p2_pocket = torch.tensor(np.repeat(encoded_p2_pocket, round_tensor.shape[1], axis=1))\n",
    "\n",
    "        ###\n",
    "        hot_p1_target = torch.tensor(trans(data['players'][0]['pocket_cards']).flatten())\n",
    "        hot_p2_target = torch.tensor(trans(data['players'][1]['pocket_cards']).flatten())\n",
    "    \n",
    "        encoded_board = torch.tensor(encode_board(data['board'], round_tensor))\n",
    "        \n",
    "        money_features = np.array([data['players'][player][feature] for feature in ['bankroll', 'action', 'winnings'] \n",
    "                                        for player in [0,1]]).reshape(6, 1)\n",
    "        money_features = torch.tensor(np.repeat(money_features, round_tensor.shape[1], axis=1))\n",
    "        \n",
    "        full_tensor_p1 = torch.concat((encoded_board, repeated_p1_pocket, money_features, round_tensor, player_tensor, mixed_action_tensor))\n",
    "        padded_tensor_p1 = torch.nn.functional.pad(full_tensor_p1, (0, MAXIMUM_SIZE-full_tensor_p1.shape[1]), mode='constant', value=0)\n",
    "\n",
    "        full_tensor_p2 = torch.concat((encoded_board, repeated_p2_pocket, money_features, round_tensor, player_tensor, mixed_action_tensor))\n",
    "        padded_tensor_p2 = torch.nn.functional.pad(full_tensor_p2, (0, MAXIMUM_SIZE-full_tensor_p2.shape[1]), mode='constant', value=0)\n",
    "\n",
    "        full_data_list.append(padded_tensor_p1)\n",
    "        full_data_list.append(padded_tensor_p2)\n",
    "\n",
    "        full_target_list.append(hot_p2_target)\n",
    "        full_target_list.append(hot_p1_target)\n",
    "conjoined_list = [(x,y) for x,y in zip(full_data_list, full_target_list)]\n",
    "\n",
    "for i, mini_list in enumerate(torch.utils.data.random_split(conjoined_list, [0.1 for k in range(10)])):\n",
    "    subfolder = 'training'\n",
    "    if(i == 8):\n",
    "        subfolder = 'validation'\n",
    "    if(i == 9):\n",
    "        subfolder = 'testing'\n",
    "    print(f'Iteration {i+1}, Saving to {subfolder}')\n",
    "    torch.save(list(mini_list), os.path.join('data', subfolder, f'data_list_{i}.pt'))"
   ]
  },
  {
   "cell_type": "code",
   "execution_count": 55,
   "metadata": {},
   "outputs": [
    {
     "data": {
      "text/plain": [
       "torch.Tensor"
      ]
     },
     "execution_count": 55,
     "metadata": {},
     "output_type": "execute_result"
    }
   ],
   "source": [
    "type(conjoined_list[1][0])"
   ]
  },
  {
   "cell_type": "code",
   "execution_count": 53,
   "metadata": {},
   "outputs": [
    {
     "name": "stdout",
     "output_type": "stream",
     "text": [
      "0\n",
      "training\n",
      "1\n",
      "training\n",
      "2\n",
      "training\n",
      "3\n",
      "training\n",
      "4\n",
      "training\n",
      "5\n",
      "training\n",
      "6\n",
      "training\n",
      "7\n",
      "training\n",
      "8\n",
      "validation\n",
      "9\n",
      "testing\n"
     ]
    }
   ],
   "source": []
  },
  {
   "cell_type": "code",
   "execution_count": null,
   "metadata": {},
   "outputs": [],
   "source": []
  }
 ],
 "metadata": {
  "kernelspec": {
   "display_name": "base",
   "language": "python",
   "name": "python3"
  },
  "language_info": {
   "codemirror_mode": {
    "name": "ipython",
    "version": 3
   },
   "file_extension": ".py",
   "mimetype": "text/x-python",
   "name": "python",
   "nbconvert_exporter": "python",
   "pygments_lexer": "ipython3",
   "version": "3.11.3"
  }
 },
 "nbformat": 4,
 "nbformat_minor": 2
}
